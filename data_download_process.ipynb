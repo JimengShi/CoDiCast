{
 "cells": [
  {
   "cell_type": "code",
   "execution_count": null,
   "id": "0a35ec0c-29d5-4b32-8b99-7762850b7775",
   "metadata": {},
   "outputs": [],
   "source": [
    "import climate_learn as cl\n",
    "import numpy as np"
   ]
  },
  {
   "cell_type": "markdown",
   "id": "28f05766-4fc9-45b8-9431-14a8f3f6e923",
   "metadata": {
    "jp-MarkdownHeadingCollapsed": true
   },
   "source": [
    "### ERA5 dataset\n",
    "ERA5 is a reanalysis dataset maintained by the European Center for Medium-Range Weather Forecasting (ECMWF). In its raw format, ERA5 contains hourly data from 1979 to the current time on a grid with cells of width and height 0.25 degree of the Earth, with different climate variables at 37 different pressure levels plus the planet’s surface. This corresponds to nearly 400,000 data samples, each a matrix of shape 721*1440. Since this is too big for most deep learning models, ClimateLearn supports downloading a smaller, pre-processed version of ERA5 data from WeatherBench.\n",
    "\n"
   ]
  },
  {
   "cell_type": "markdown",
   "id": "351fc1d8-5074-40e3-ad07-a649e5e6e1c0",
   "metadata": {},
   "source": [
    "\n",
    "#### downloaded 5.626 degree: \n",
    "##### 13-pressure-level\n",
    "- <span style=\"color:red\">geopotential</span> (all levels: 50,  100,  150,  200,  250,  300,  400, <span style=\"color:red\">500</span> ,  600, 700, 850,  925, 1000 hPa)\n",
    "- <span style=\"color:red\">temperature</span> (all levels: 50,  100,  150,  200,  250,  300,  400,  500,  600, 700,  500, <span style=\"color:red\">850</span>,  925, 1000 hPa)\n",
    "- relative_humidity (all levels: 50,  100,  150,  200,  250,  300,  400,  500,  600, 700,  850,  925, 1000 hPa)\n",
    "- specific_humidity (all levels: 50,  100,  150,  200,  250,  300,  400,  500,  600, 700,  850,  925, 1000 hPa)\n",
    "- u_component_of_wind (all levels: 50,  100,  150,  200,  250,  300,  400,  500,  600, 700,  850,  925, 1000 hPa)\n",
    "- v_component_of_wind (all levels: 50,  100,  150,  200,  250,  300,  400,  500,  600, 700,  850,  925, 1000 hPa)\n",
    "\n",
    "##### single-surface-level\n",
    "- <span style=\"color:red\">2m_temperature</span> \n",
    "- <span style=\"color:red\">10m_u_component_of_wind</span> \n",
    "- <span style=\"color:red\">10m_v_component_of_wind</span> \n",
    "- total_precipitation\n",
    "- total_cloud_cover\n",
    "- toa_incident_solar_radiation\n",
    "  \n",
    "We mark the data to download in <span style=\"color:red\">red</span>."
   ]
  },
  {
   "cell_type": "code",
   "execution_count": null,
   "id": "a71b75b0-d39d-42d0-8170-8867ff50d945",
   "metadata": {},
   "outputs": [],
   "source": [
    "root_directory = \"data\"  \n",
    "variable = \"2m_temperature\"  # temperature_850, geopotential_500, 10m_u_component_of_wind, 10m_v_component_of_wind\n",
    "year = 2018\n",
    "\n",
    "cl.data.download_weatherbench(\n",
    "    dst=f\"{root_directory}/{variable}\",\n",
    "    dataset=\"era5\",\n",
    "    year = year,\n",
    "    variable=\"2m_temperature\",\n",
    "    resolution=5.625      \n",
    ")"
   ]
  },
  {
   "cell_type": "markdown",
   "id": "93146ad9-503b-44ce-b24c-0aae827c3f79",
   "metadata": {},
   "source": [
    "### Create train / val / test"
   ]
  },
  {
   "cell_type": "code",
   "execution_count": null,
   "id": "266146d7-67c9-46f3-bd54-d4294814d974",
   "metadata": {},
   "outputs": [],
   "source": [
    "def select_merge_data(var_list, year_start, year_end, data_folder, resolution, lat, long):\n",
    "    directory_paths = var_list\n",
    "    concat_years = []\n",
    "    counts = 0\n",
    "    years = []\n",
    "    \n",
    "    for year in range(year_start, year_end+1):\n",
    "        years.append(str(year))\n",
    "\n",
    "    for year in years:\n",
    "        print('>>>', year, '<<<')\n",
    "        for directory_path in directory_paths:\n",
    "            # Open the NetCDF file using xarray\n",
    "            ds = xr.open_dataset(data_folder + '/' + directory_path + '/' + directory_path + '_' + year + '_' + str(resolution) + 'deg.nc')\n",
    "    \n",
    "            # Select every 6th sample\n",
    "            ds = ds.isel(time=slice(None, None, 6))\n",
    "        \n",
    "            # =========== pressure-level =============  \n",
    "            if directory_path == 'geopotential':\n",
    "                geopotential = ds['z'].values\n",
    "                geopotential = geopotential.reshape((-1, 1, lat, long))\n",
    "                print('geopotential:', geopotential.shape)\n",
    "                \n",
    "            if directory_path == 'temperature':\n",
    "                temperature = ds['t'].values\n",
    "                temperature = temperature.reshape((-1, 1, lat, long))\n",
    "                print('temperature:', temperature.shape)\n",
    "        \n",
    "            # ======================= surface variable ======================\n",
    "            if directory_path == '2m_temperature':\n",
    "                t2m_temperature = ds['t2m'].values\n",
    "                t2m_temperature = t2m_temperature.reshape((-1, 1, lat, long))\n",
    "                print('2m_temperature:', t2m_temperature.shape)\n",
    "        \n",
    "            if directory_path == '10m_u_component_of_wind':\n",
    "                u10m = ds['u10'].values\n",
    "                u10m = u10m.reshape((-1, 1, lat, long))\n",
    "                print('10m_u_component_of_wind:', u10m.shape)\n",
    "        \n",
    "            if directory_path == '10m_v_component_of_wind': \n",
    "                v10m = ds['v10'].values\n",
    "                v10m = v10m.reshape((-1, 1,lat, long))\n",
    "                print('10m_v_component_of_wind:', v10m.shape)\n",
    "        \n",
    "        # concatenate one year\n",
    "        concat_one_year = np.concatenate([geopotential, temperature, t2m_temperature, u10m, v10m], axis=1)        \n",
    "        print(\"concat_one_year.shape:\", concat_one_year.shape)\n",
    "    \n",
    "        concat_years.append(concat_one_year)\n",
    "    \n",
    "        counts += concat_one_year.shape[0]\n",
    "\n",
    "    concat_years = np.concatenate(concat_years, axis=0)\n",
    "    \n",
    "    print(\"concat_years.shape:\", concat_years.shape)\n",
    "    \n",
    "    print(\"total time points:\", counts)\n",
    "\n",
    "    print(\">>> saving data <<<\") \n",
    "    np.save(data_folder + '/concat_' + str(year_start) + '_' + str(year_end) + '_' + str(resolution) + '_' + str(concat_years.shape[1]) + 'var.npy', concat_years)\n",
    "    \n",
    "\n",
    "    print(\">>> saved data <<<\")"
   ]
  },
  {
   "cell_type": "code",
   "execution_count": null,
   "id": "7007e5f1-40c6-40e3-8ff3-62976a855616",
   "metadata": {},
   "outputs": [],
   "source": [
    "var_list = ['geopotential', 'temperature', '2m_temperature', '10m_u_component_of_wind', '10m_v_component_of_wind']\n",
    "\n",
    "year_start, year_end = 2017, 2018\n",
    "\n",
    "resolution = 5.625 \n",
    "\n",
    "data_folder = 'data'\n",
    "\n",
    "lat, long = 32, 64"
   ]
  },
  {
   "cell_type": "code",
   "execution_count": null,
   "id": "8cf1e357-25a5-435d-bd36-e11c56dfc0e7",
   "metadata": {},
   "outputs": [],
   "source": [
    "select_merge_data(var_list, year_start, year_end, resolution_folder, resolution, lat, long)"
   ]
  },
  {
   "cell_type": "code",
   "execution_count": null,
   "id": "effd4721-b545-4759-83ce-16690655c58e",
   "metadata": {},
   "outputs": [],
   "source": []
  },
  {
   "cell_type": "code",
   "execution_count": null,
   "id": "04d030e4-5cac-4980-97b4-c4daf68206b1",
   "metadata": {},
   "outputs": [],
   "source": []
  },
  {
   "cell_type": "code",
   "execution_count": null,
   "id": "4b2d3ef3-84a8-40bb-892f-da689ec7279d",
   "metadata": {},
   "outputs": [],
   "source": []
  },
  {
   "cell_type": "code",
   "execution_count": null,
   "id": "fdf860d0-e68f-47b9-9eba-7a38b9439b77",
   "metadata": {},
   "outputs": [],
   "source": []
  }
 ],
 "metadata": {
  "kernelspec": {
   "display_name": "Python 3 (ipykernel)",
   "language": "python",
   "name": "python3"
  },
  "language_info": {
   "codemirror_mode": {
    "name": "ipython",
    "version": 3
   },
   "file_extension": ".py",
   "mimetype": "text/x-python",
   "name": "python",
   "nbconvert_exporter": "python",
   "pygments_lexer": "ipython3",
   "version": "3.10.13"
  }
 },
 "nbformat": 4,
 "nbformat_minor": 5
}
