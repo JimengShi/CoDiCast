{
 "cells": [
  {
   "cell_type": "code",
   "execution_count": null,
   "id": "0a35ec0c-29d5-4b32-8b99-7762850b7775",
   "metadata": {},
   "outputs": [],
   "source": [
    "import climate_learn as cl\n",
    "import numpy as np\n",
    "import xarray as xr"
   ]
  },
  {
   "cell_type": "markdown",
   "id": "28f05766-4fc9-45b8-9431-14a8f3f6e923",
   "metadata": {},
   "source": [
    "### ERA5 dataset\n",
    "ERA5 is a reanalysis dataset maintained by the European Center for Medium-Range Weather Forecasting (ECMWF). In its raw format, ERA5 contains hourly data from 1979 to the current time on a grid with cells of width and height 0.25 degree of the Earth, with different climate variables at 37 different pressure levels plus the planet’s surface. This corresponds to nearly 400,000 data samples, each a matrix of shape 721*1440. Since this is too big for most deep learning models, ClimateLearn supports downloading a smaller, pre-processed version of ERA5 data from WeatherBench.\n",
    "\n"
   ]
  },
  {
   "cell_type": "markdown",
   "id": "351fc1d8-5074-40e3-ad07-a649e5e6e1c0",
   "metadata": {},
   "source": [
    "\n",
    "#### downloaded 5.626 degree: \n",
    "##### 13-pressure-level\n",
    "- <span style=\"color:red\">geopotential</span> (all levels: 50,  100,  150,  200,  250,  300,  400, <span style=\"color:red\">500</span> ,  600, 700, 850,  925, 1000 hPa)\n",
    "- <span style=\"color:red\">temperature</span> (all levels: 50,  100,  150,  200,  250,  300,  400,  500,  600, 700,  500, <span style=\"color:red\">850</span>,  925, 1000 hPa)\n",
    "- relative_humidity (all levels: 50,  100,  150,  200,  250,  300,  400,  500,  600, 700,  850,  925, 1000 hPa)\n",
    "- specific_humidity (all levels: 50,  100,  150,  200,  250,  300,  400,  500,  600, 700,  850,  925, 1000 hPa)\n",
    "- u_component_of_wind (all levels: 50,  100,  150,  200,  250,  300,  400,  500,  600, 700,  850,  925, 1000 hPa)\n",
    "- v_component_of_wind (all levels: 50,  100,  150,  200,  250,  300,  400,  500,  600, 700,  850,  925, 1000 hPa)\n",
    "\n",
    "##### single-surface-level\n",
    "- <span style=\"color:red\">2m_temperature</span> \n",
    "- <span style=\"color:red\">10m_u_component_of_wind</span> \n",
    "- <span style=\"color:red\">10m_v_component_of_wind</span> \n",
    "- total_precipitation\n",
    "- total_cloud_cover\n",
    "- toa_incident_solar_radiation\n",
    "  \n",
    "We mark the data to download in <span style=\"color:red\">red</span>."
   ]
  },
  {
   "cell_type": "code",
   "execution_count": null,
   "id": "a71b75b0-d39d-42d0-8170-8867ff50d945",
   "metadata": {},
   "outputs": [],
   "source": [
    "# The downloading process may need 15-20 minitues and the data size is around 14.3 GB\n",
    "root_directory = \"data\"  \n",
    "variable_list = [\"2m_temperature\", \"temperature_850\", \"geopotential_500\", \"10m_u_component_of_wind\", \"10m_v_component_of_wind\"]\n",
    "\n",
    "for variable in variable_list:\n",
    "    print(f'Start downloading {variable}')\n",
    "    \n",
    "    cl.data.download_weatherbench(\n",
    "        dst=f\"{root_directory}/{variable}\",\n",
    "        dataset=\"era5\",\n",
    "        variable=f\"{variable}\",\n",
    "        resolution=5.625      \n",
    "    )\n",
    "    \n",
    "    print(f'Finish downloading {variable}')"
   ]
  },
  {
   "cell_type": "markdown",
   "id": "93146ad9-503b-44ce-b24c-0aae827c3f79",
   "metadata": {},
   "source": [
    "### Create train / val / test"
   ]
  },
  {
   "cell_type": "code",
   "execution_count": null,
   "id": "266146d7-67c9-46f3-bd54-d4294814d974",
   "metadata": {},
   "outputs": [],
   "source": [
    "def select_merge_data(var_list, year_start, year_end, data_folder, resolution, lat, long):\n",
    "    directory_paths = var_list\n",
    "    concat_years = []\n",
    "    counts = 0\n",
    "    years = []\n",
    "    \n",
    "    for year in range(year_start, year_end+1):\n",
    "        years.append(str(year))\n",
    "\n",
    "    for year in years:\n",
    "        print('>>>', year, '<<<')\n",
    "        for directory_path in directory_paths:\n",
    "            # # Open the NetCDF file using xarray\n",
    "            # ds = xr.open_dataset(data_folder + '/' + directory_path + '/' + directory_path + '_' + year + '_' + str(resolution) + 'deg.nc')\n",
    "    \n",
    "            # # Select every 6th sample\n",
    "            # ds = ds.isel(time=slice(None, None, 6))\n",
    "        \n",
    "            # =========== pressure-level =============  \n",
    "            if directory_path == 'geopotential_500':\n",
    "                ds = xr.open_dataset(data_folder + '/' + directory_path + '/' + directory_path + 'hPa_' + year + '_' + str(resolution) + 'deg.nc')\n",
    "                ds = ds.isel(time=slice(None, None, 6))\n",
    "                geopotential = ds['z'].values\n",
    "                geopotential = geopotential.reshape((-1, 1, lat, long))\n",
    "                print('geopotential_500:', geopotential.shape)\n",
    "                \n",
    "            if directory_path == 'temperature_850':\n",
    "                ds = xr.open_dataset(data_folder + '/' + directory_path + '/' + directory_path + 'hPa_' + year + '_' + str(resolution) + 'deg.nc')\n",
    "                ds = ds.isel(time=slice(None, None, 6))\n",
    "                temperature = ds['t'].values\n",
    "                temperature = temperature.reshape((-1, 1, lat, long))\n",
    "                print('temperature_850:', temperature.shape)\n",
    "        \n",
    "            # ======================= surface variable ======================\n",
    "            if directory_path == '2m_temperature':\n",
    "                ds = xr.open_dataset(data_folder + '/' + directory_path + '/' + directory_path + '_' + year + '_' + str(resolution) + 'deg.nc')\n",
    "                ds = ds.isel(time=slice(None, None, 6))\n",
    "                t2m_temperature = ds['t2m'].values\n",
    "                t2m_temperature = t2m_temperature.reshape((-1, 1, lat, long))\n",
    "                print('2m_temperature:', t2m_temperature.shape)\n",
    "        \n",
    "            if directory_path == '10m_u_component_of_wind':\n",
    "                ds = xr.open_dataset(data_folder + '/' + directory_path + '/' + directory_path + '_' + year + '_' + str(resolution) + 'deg.nc')\n",
    "                ds = ds.isel(time=slice(None, None, 6))\n",
    "                u10m = ds['u10'].values\n",
    "                u10m = u10m.reshape((-1, 1, lat, long))\n",
    "                print('10m_u_component_of_wind:', u10m.shape)\n",
    "        \n",
    "            if directory_path == '10m_v_component_of_wind': \n",
    "                ds = xr.open_dataset(data_folder + '/' + directory_path + '/' + directory_path + '_' + year + '_' + str(resolution) + 'deg.nc')\n",
    "                ds = ds.isel(time=slice(None, None, 6))\n",
    "                v10m = ds['v10'].values\n",
    "                v10m = v10m.reshape((-1, 1,lat, long))\n",
    "                print('10m_v_component_of_wind:', v10m.shape)\n",
    "        \n",
    "        # concatenate one year\n",
    "        concat_one_year = np.concatenate([geopotential, temperature, t2m_temperature, u10m, v10m], axis=1)        \n",
    "        print(\"concat_one_year.shape:\", concat_one_year.shape)\n",
    "    \n",
    "        concat_years.append(concat_one_year)\n",
    "    \n",
    "        counts += concat_one_year.shape[0]\n",
    "\n",
    "    concat_years = np.concatenate(concat_years, axis=0)\n",
    "    \n",
    "    print(\"concat_years.shape:\", concat_years.shape)\n",
    "    \n",
    "    print(\"total time points:\", counts)\n",
    "\n",
    "    print(\">>> saving data <<<\") \n",
    "    np.save(data_folder + '/concat_' + str(year_start) + '_' + str(year_end) + '_' + str(resolution) + '_' + str(concat_years.shape[1]) + 'var.npy', concat_years)\n",
    "    \n",
    "\n",
    "    print(\">>> saved data <<<\")"
   ]
  },
  {
   "cell_type": "markdown",
   "id": "97c5324e-7bd1-4dce-b684-e7a0960feb87",
   "metadata": {},
   "source": [
    "### Test set"
   ]
  },
  {
   "cell_type": "code",
   "execution_count": null,
   "id": "7007e5f1-40c6-40e3-8ff3-62976a855616",
   "metadata": {},
   "outputs": [],
   "source": [
    "var_list = ['geopotential_500', 'temperature_850', '2m_temperature', '10m_u_component_of_wind', '10m_v_component_of_wind']\n",
    "\n",
    "year_start, year_end = 2017, 2018\n",
    "\n",
    "resolution = 5.625 \n",
    "\n",
    "data_folder = 'data'\n",
    "\n",
    "lat, long = 32, 64"
   ]
  },
  {
   "cell_type": "code",
   "execution_count": null,
   "id": "5f760b4a-e5c4-456e-8339-cbed1b3a9729",
   "metadata": {},
   "outputs": [],
   "source": [
    "select_merge_data(var_list, year_start, year_end, data_folder, resolution, lat, long)"
   ]
  },
  {
   "cell_type": "markdown",
   "id": "29eb9312-473e-45fb-b6b0-6221aedd204d",
   "metadata": {},
   "source": [
    "### Val set"
   ]
  },
  {
   "cell_type": "code",
   "execution_count": null,
   "id": "04d030e4-5cac-4980-97b4-c4daf68206b1",
   "metadata": {},
   "outputs": [],
   "source": [
    "var_list = ['geopotential_500', 'temperature_850', '2m_temperature', '10m_u_component_of_wind', '10m_v_component_of_wind']\n",
    "\n",
    "year_start, year_end = 2016, 2016\n",
    "\n",
    "resolution = 5.625 \n",
    "\n",
    "data_folder = 'data'\n",
    "\n",
    "lat, long = 32, 64"
   ]
  },
  {
   "cell_type": "code",
   "execution_count": null,
   "id": "4b2d3ef3-84a8-40bb-892f-da689ec7279d",
   "metadata": {},
   "outputs": [],
   "source": [
    "select_merge_data(var_list, year_start, year_end, data_folder, resolution, lat, long)"
   ]
  },
  {
   "cell_type": "markdown",
   "id": "b33edd66-9f28-437e-bb2e-9a72652b96b4",
   "metadata": {},
   "source": [
    "### Training set"
   ]
  },
  {
   "cell_type": "code",
   "execution_count": null,
   "id": "cc097ea1-1697-4011-97df-7fe06fada9a8",
   "metadata": {},
   "outputs": [],
   "source": [
    "var_list = ['geopotential_500', 'temperature_850', '2m_temperature', '10m_u_component_of_wind', '10m_v_component_of_wind']\n",
    "\n",
    "year_start, year_end = 2006, 2015\n",
    "\n",
    "resolution = 5.625 \n",
    "\n",
    "data_folder = 'data'\n",
    "\n",
    "lat, long = 32, 64"
   ]
  },
  {
   "cell_type": "code",
   "execution_count": null,
   "id": "68fe3477-d67f-4e4d-8631-4f770ae1d518",
   "metadata": {
    "scrolled": true
   },
   "outputs": [],
   "source": [
    "select_merge_data(var_list, year_start, year_end, data_folder, resolution, lat, long)"
   ]
  },
  {
   "cell_type": "code",
   "execution_count": null,
   "id": "83ef769a-1202-4e4f-aa29-ebd36ac232fb",
   "metadata": {},
   "outputs": [],
   "source": []
  },
  {
   "cell_type": "code",
   "execution_count": null,
   "id": "dfd22cbe-e694-4ee9-8e1b-47dd14f67d93",
   "metadata": {},
   "outputs": [],
   "source": []
  },
  {
   "cell_type": "code",
   "execution_count": null,
   "id": "85d21027-9807-4f3b-87a5-c7551827d17f",
   "metadata": {},
   "outputs": [],
   "source": []
  }
 ],
 "metadata": {
  "kernelspec": {
   "display_name": "Python 3 (ipykernel)",
   "language": "python",
   "name": "python3"
  },
  "language_info": {
   "codemirror_mode": {
    "name": "ipython",
    "version": 3
   },
   "file_extension": ".py",
   "mimetype": "text/x-python",
   "name": "python",
   "nbconvert_exporter": "python",
   "pygments_lexer": "ipython3",
   "version": "3.10.13"
  }
 },
 "nbformat": 4,
 "nbformat_minor": 5
}
